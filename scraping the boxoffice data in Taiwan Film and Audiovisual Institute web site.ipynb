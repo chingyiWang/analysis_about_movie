{
 "cells": [
  {
   "cell_type": "code",
   "execution_count": 39,
   "metadata": {},
   "outputs": [
    {
     "name": "stdout",
     "output_type": "stream",
     "text": [
      "<selenium.webdriver.remote.webelement.WebElement (session=\"e3f311f71e112f393171274b176fe327\", element=\"9eb70dc4-fbc8-4b23-950f-9f76b498e032\")>\n"
     ]
    }
   ],
   "source": [
    "# 操作 browser\n",
    "from selenium import webdriver\n",
    "\n",
    "# 強制等待，緩衝瀏覽器速度\n",
    "from time import sleep\n",
    "\n",
    "# 執行 command 的時候用的\n",
    "import os\n",
    "\n",
    "# 使用 Chrome 的 WebDriver\n",
    "driver = webdriver.Chrome()\n",
    "\n",
    "#訪問網頁\n",
    "driver.get(\"https://www.tfi.org.tw/BoxOfficeBulletin/weekly\")\n",
    "sleep(2)\n",
    "\n",
    "#透過class選取\n",
    "file_list = driver.find_elements_by_class_name('file')\n",
    "file_len = len(file_list)\n",
    "print(file_list[5])\n",
    "\n",
    "#取出excel檔的\n",
    "excel_list = file_list[1::2]\n",
    "# print(len(excel_list))\n",
    "\n",
    "#點選下載\n",
    "for excel in excel_list:\n",
    "    excel.click()\n",
    "    sleep(1)\n",
    "\n",
    "driver.quit()"
   ]
  }
 ],
 "metadata": {
  "kernelspec": {
   "display_name": "Python 3",
   "language": "python",
   "name": "python3"
  },
  "language_info": {
   "codemirror_mode": {
    "name": "ipython",
    "version": 3
   },
   "file_extension": ".py",
   "mimetype": "text/x-python",
   "name": "python",
   "nbconvert_exporter": "python",
   "pygments_lexer": "ipython3",
   "version": "3.7.7"
  }
 },
 "nbformat": 4,
 "nbformat_minor": 4
}
