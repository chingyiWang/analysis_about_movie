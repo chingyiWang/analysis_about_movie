{
 "cells": [
  {
   "cell_type": "code",
   "execution_count": null,
   "metadata": {},
   "outputs": [],
   "source": [
    "from selenium import webdriver\n",
    "from time import sleep\n",
    "\n",
    "#訪問網頁\n",
    "driver = webdriver.Chrome()\n",
    "driver.get(\"https://www.tfi.org.tw/BoxOfficeBulletin/weekly\")\n",
    "sleep(2)\n",
    "\n",
    "#以class選取\n",
    "file_list = driver.find_elements_by_class_name('file')\n",
    "file_len = len(file_list)\n",
    "print(file_list[5])\n",
    "\n",
    "#取出excel檔的\n",
    "excel_list = file_list[1::2]\n",
    "\n",
    "#點選下載\n",
    "for excel in excel_list:\n",
    "    excel.click()\n",
    "    sleep(1)\n",
    "\n",
    "driver.quit()"
   ]
  }
 ],
 "metadata": {
  "kernelspec": {
   "display_name": "Python 3",
   "language": "python",
   "name": "python3"
  },
  "language_info": {
   "codemirror_mode": {
    "name": "ipython",
    "version": 3
   },
   "file_extension": ".py",
   "mimetype": "text/x-python",
   "name": "python",
   "nbconvert_exporter": "python",
   "pygments_lexer": "ipython3",
   "version": "3.7.7"
  }
 },
 "nbformat": 4,
 "nbformat_minor": 4
}
