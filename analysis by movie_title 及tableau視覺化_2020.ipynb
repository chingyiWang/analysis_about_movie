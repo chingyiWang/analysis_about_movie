{
 "cells": [
  {
   "cell_type": "code",
   "execution_count": 1,
   "metadata": {},
   "outputs": [],
   "source": [
    "import pandas as pd\n",
    "import numpy as np\n",
    "from glob import glob"
   ]
  },
  {
   "cell_type": "code",
   "execution_count": 2,
   "metadata": {},
   "outputs": [],
   "source": [
    "df_2020 = pd.read_csv('C:/Users/ching/Desktop/practice/movie/data/df_2020.csv')"
   ]
  },
  {
   "cell_type": "code",
   "execution_count": 3,
   "metadata": {},
   "outputs": [
    {
     "data": {
      "text/html": [
       "<div>\n",
       "<style scoped>\n",
       "    .dataframe tbody tr th:only-of-type {\n",
       "        vertical-align: middle;\n",
       "    }\n",
       "\n",
       "    .dataframe tbody tr th {\n",
       "        vertical-align: top;\n",
       "    }\n",
       "\n",
       "    .dataframe thead th {\n",
       "        text-align: right;\n",
       "    }\n",
       "</style>\n",
       "<table border=\"1\" class=\"dataframe\">\n",
       "  <thead>\n",
       "    <tr style=\"text-align: right;\">\n",
       "      <th></th>\n",
       "      <th>Unnamed: 0</th>\n",
       "      <th>序號</th>\n",
       "      <th>國別地區</th>\n",
       "      <th>中文片名</th>\n",
       "      <th>上映日期</th>\n",
       "      <th>申請人</th>\n",
       "      <th>出品</th>\n",
       "      <th>上映院數</th>\n",
       "      <th>銷售票數</th>\n",
       "      <th>週票數變動率</th>\n",
       "      <th>銷售金額</th>\n",
       "      <th>累計銷售票數</th>\n",
       "      <th>累計銷售金額</th>\n",
       "    </tr>\n",
       "  </thead>\n",
       "  <tbody>\n",
       "    <tr>\n",
       "      <th>4023</th>\n",
       "      <td>102</td>\n",
       "      <td>103</td>\n",
       "      <td>美國</td>\n",
       "      <td>記憶拼圖</td>\n",
       "      <td>2002-02-22</td>\n",
       "      <td>采昌國際多媒體股份有限公司</td>\n",
       "      <td>FREEWAY ENTERTAINMENT KFT.</td>\n",
       "      <td>5</td>\n",
       "      <td>270</td>\n",
       "      <td>-31.30</td>\n",
       "      <td>61485.0</td>\n",
       "      <td>9415.0</td>\n",
       "      <td>2243472.0</td>\n",
       "    </tr>\n",
       "    <tr>\n",
       "      <th>4024</th>\n",
       "      <td>103</td>\n",
       "      <td>104</td>\n",
       "      <td>美國</td>\n",
       "      <td>沉默的羔羊</td>\n",
       "      <td>1991-09-21</td>\n",
       "      <td>聯影企業股份有限公司</td>\n",
       "      <td>PARK CIRCUS LIMITED</td>\n",
       "      <td>1</td>\n",
       "      <td>2</td>\n",
       "      <td>-77.78</td>\n",
       "      <td>380.0</td>\n",
       "      <td>7080.0</td>\n",
       "      <td>1699271.0</td>\n",
       "    </tr>\n",
       "    <tr>\n",
       "      <th>4025</th>\n",
       "      <td>104</td>\n",
       "      <td>105</td>\n",
       "      <td>義大利</td>\n",
       "      <td>新天堂樂園</td>\n",
       "      <td>1990-05-12</td>\n",
       "      <td>香港商甲上娛樂有限公司台灣分公司</td>\n",
       "      <td>CRISTAL DI FILM</td>\n",
       "      <td>2</td>\n",
       "      <td>29</td>\n",
       "      <td>-70.10</td>\n",
       "      <td>6655.0</td>\n",
       "      <td>6947.0</td>\n",
       "      <td>1570800.0</td>\n",
       "    </tr>\n",
       "  </tbody>\n",
       "</table>\n",
       "</div>"
      ],
      "text/plain": [
       "      Unnamed: 0   序號 國別地區   中文片名        上映日期               申請人  \\\n",
       "4023         102  103   美國   記憶拼圖  2002-02-22     采昌國際多媒體股份有限公司   \n",
       "4024         103  104   美國  沉默的羔羊  1991-09-21        聯影企業股份有限公司   \n",
       "4025         104  105  義大利  新天堂樂園  1990-05-12  香港商甲上娛樂有限公司台灣分公司   \n",
       "\n",
       "                              出品  上映院數 銷售票數  週票數變動率     銷售金額  累計銷售票數  \\\n",
       "4023  FREEWAY ENTERTAINMENT KFT.     5  270  -31.30  61485.0  9415.0   \n",
       "4024         PARK CIRCUS LIMITED     1    2  -77.78    380.0  7080.0   \n",
       "4025             CRISTAL DI FILM     2   29  -70.10   6655.0  6947.0   \n",
       "\n",
       "         累計銷售金額  \n",
       "4023  2243472.0  \n",
       "4024  1699271.0  \n",
       "4025  1570800.0  "
      ]
     },
     "execution_count": 3,
     "metadata": {},
     "output_type": "execute_result"
    }
   ],
   "source": [
    "df_2020.tail(3)"
   ]
  },
  {
   "cell_type": "code",
   "execution_count": 4,
   "metadata": {},
   "outputs": [
    {
     "data": {
      "text/html": [
       "<div>\n",
       "<style scoped>\n",
       "    .dataframe tbody tr th:only-of-type {\n",
       "        vertical-align: middle;\n",
       "    }\n",
       "\n",
       "    .dataframe tbody tr th {\n",
       "        vertical-align: top;\n",
       "    }\n",
       "\n",
       "    .dataframe thead th {\n",
       "        text-align: right;\n",
       "    }\n",
       "</style>\n",
       "<table border=\"1\" class=\"dataframe\">\n",
       "  <thead>\n",
       "    <tr style=\"text-align: right;\">\n",
       "      <th></th>\n",
       "      <th>Unnamed: 0</th>\n",
       "      <th>序號</th>\n",
       "      <th>國別地區</th>\n",
       "      <th>中文片名</th>\n",
       "      <th>上映日期</th>\n",
       "      <th>申請人</th>\n",
       "      <th>出品</th>\n",
       "      <th>上映院數</th>\n",
       "      <th>銷售票數</th>\n",
       "      <th>週票數變動率</th>\n",
       "      <th>銷售金額</th>\n",
       "      <th>累計銷售票數</th>\n",
       "      <th>累計銷售金額</th>\n",
       "    </tr>\n",
       "  </thead>\n",
       "  <tbody>\n",
       "    <tr>\n",
       "      <th>4011</th>\n",
       "      <td>90</td>\n",
       "      <td>91</td>\n",
       "      <td>美國</td>\n",
       "      <td>逃出夢幻島</td>\n",
       "      <td>2020-02-14</td>\n",
       "      <td>美商台灣索尼影業發行股份有限公司台灣分公司</td>\n",
       "      <td>SONY PICTURES RELEASING INTERNATIONAL CORPORAT...</td>\n",
       "      <td>1</td>\n",
       "      <td>78</td>\n",
       "      <td>-6.02</td>\n",
       "      <td>8730.0</td>\n",
       "      <td>99484.0</td>\n",
       "      <td>22005897.0</td>\n",
       "    </tr>\n",
       "    <tr>\n",
       "      <th>4012</th>\n",
       "      <td>91</td>\n",
       "      <td>92</td>\n",
       "      <td>南韓</td>\n",
       "      <td>紅鞋公主與七矮人</td>\n",
       "      <td>2020-01-30</td>\n",
       "      <td>可樂藝術文創股份有限公司</td>\n",
       "      <td>FINECUT CO., LTD</td>\n",
       "      <td>2</td>\n",
       "      <td>106</td>\n",
       "      <td>-79.42</td>\n",
       "      <td>5380.0</td>\n",
       "      <td>28012.0</td>\n",
       "      <td>5507192.0</td>\n",
       "    </tr>\n",
       "    <tr>\n",
       "      <th>4013</th>\n",
       "      <td>92</td>\n",
       "      <td>93</td>\n",
       "      <td>日本</td>\n",
       "      <td>巧虎電影 英雄遊樂園</td>\n",
       "      <td>2020-01-17</td>\n",
       "      <td>全民大劇團股份有限公司</td>\n",
       "      <td>法人倍樂生株式會社</td>\n",
       "      <td>15</td>\n",
       "      <td>148</td>\n",
       "      <td>-10.84</td>\n",
       "      <td>35916.0</td>\n",
       "      <td>21694.0</td>\n",
       "      <td>5144065.0</td>\n",
       "    </tr>\n",
       "  </tbody>\n",
       "</table>\n",
       "</div>"
      ],
      "text/plain": [
       "      Unnamed: 0  序號 國別地區        中文片名        上映日期                    申請人  \\\n",
       "4011          90  91   美國       逃出夢幻島  2020-02-14  美商台灣索尼影業發行股份有限公司台灣分公司   \n",
       "4012          91  92   南韓    紅鞋公主與七矮人  2020-01-30           可樂藝術文創股份有限公司   \n",
       "4013          92  93   日本  巧虎電影 英雄遊樂園  2020-01-17            全民大劇團股份有限公司   \n",
       "\n",
       "                                                     出品  上映院數 銷售票數  週票數變動率  \\\n",
       "4011  SONY PICTURES RELEASING INTERNATIONAL CORPORAT...     1   78   -6.02   \n",
       "4012                                   FINECUT CO., LTD     2  106  -79.42   \n",
       "4013                                          法人倍樂生株式會社    15  148  -10.84   \n",
       "\n",
       "         銷售金額   累計銷售票數      累計銷售金額  \n",
       "4011   8730.0  99484.0  22005897.0  \n",
       "4012   5380.0  28012.0   5507192.0  \n",
       "4013  35916.0  21694.0   5144065.0  "
      ]
     },
     "execution_count": 4,
     "metadata": {},
     "output_type": "execute_result"
    }
   ],
   "source": [
    "#今年發行之作品(不含舊片)\n",
    "condition = df_2020['上映日期'].str.contains('2020')\n",
    "df_2020_0 = df_2020[condition]\n",
    "df_2020_0.tail(3)"
   ]
  },
  {
   "cell_type": "code",
   "execution_count": 6,
   "metadata": {},
   "outputs": [
    {
     "name": "stdout",
     "output_type": "stream",
     "text": [
      "2020年0106~0906\n",
      "影片數量:425(未列入非今年發行之作品270部)\n",
      "影片國別地區數量:38\n",
      "發行公司數量:71\n"
     ]
    }
   ],
   "source": [
    "#整體描述\n",
    "diff = len(df_2020['中文片名'].unique()) - len(df_2020_0['中文片名'].unique())\n",
    "print('2020年0106~0906')\n",
    "print('影片數量:'+str(len(df_2020_0['中文片名'].unique()))+f'(未列入非今年發行之作品{diff}部)')\n",
    "print('影片國別地區數量:'+str(len(df_2020_0['國別地區'].unique())))\n",
    "print('發行公司數量:'+str(len(df_2020_0['申請人'].unique())))"
   ]
  },
  {
   "cell_type": "code",
   "execution_count": 8,
   "metadata": {},
   "outputs": [
    {
     "data": {
      "text/plain": [
       "425"
      ]
     },
     "execution_count": 8,
     "metadata": {},
     "output_type": "execute_result"
    }
   ],
   "source": [
    "#以片名goupby，避免重複計算，共有416部片\n",
    "movie_list = df_2020_0['中文片名'].unique().tolist()\n",
    "movie_gp = df_2020_0.groupby('中文片名')\n",
    "len(movie_gp)"
   ]
  },
  {
   "cell_type": "code",
   "execution_count": 9,
   "metadata": {},
   "outputs": [
    {
     "data": {
      "text/html": [
       "<div>\n",
       "<style scoped>\n",
       "    .dataframe tbody tr th:only-of-type {\n",
       "        vertical-align: middle;\n",
       "    }\n",
       "\n",
       "    .dataframe tbody tr th {\n",
       "        vertical-align: top;\n",
       "    }\n",
       "\n",
       "    .dataframe thead th {\n",
       "        text-align: right;\n",
       "    }\n",
       "</style>\n",
       "<table border=\"1\" class=\"dataframe\">\n",
       "  <thead>\n",
       "    <tr style=\"text-align: right;\">\n",
       "      <th></th>\n",
       "      <th>Unnamed: 0</th>\n",
       "      <th>序號</th>\n",
       "      <th>國別地區</th>\n",
       "      <th>中文片名</th>\n",
       "      <th>上映日期</th>\n",
       "      <th>申請人</th>\n",
       "      <th>出品</th>\n",
       "      <th>上映院數</th>\n",
       "      <th>銷售票數</th>\n",
       "      <th>週票數變動率</th>\n",
       "      <th>銷售金額</th>\n",
       "      <th>累計銷售票數</th>\n",
       "      <th>累計銷售金額</th>\n",
       "    </tr>\n",
       "  </thead>\n",
       "  <tbody>\n",
       "  </tbody>\n",
       "</table>\n",
       "</div>"
      ],
      "text/plain": [
       "Empty DataFrame\n",
       "Columns: [Unnamed: 0, 序號, 國別地區, 中文片名, 上映日期, 申請人, 出品, 上映院數, 銷售票數, 週票數變動率, 銷售金額, 累計銷售票數, 累計銷售金額]\n",
       "Index: []"
      ]
     },
     "execution_count": 9,
     "metadata": {},
     "output_type": "execute_result"
    }
   ],
   "source": [
    "# 建立新dataframe，不設index，再append就好\n",
    "cols = df_2020_0.columns\n",
    "movie_title_df = pd.DataFrame(columns = cols)\n",
    "movie_title_df"
   ]
  },
  {
   "cell_type": "code",
   "execution_count": 11,
   "metadata": {},
   "outputs": [],
   "source": [
    "# 以片名做迴圈，保留最後一列，即lastest的資料才是最新(下檔前)的累計銷售金額，並append到movie_df中\n",
    "# 片名有包含相同字串，會報錯，所以要用==\n",
    "\n",
    "for title in movie_list:\n",
    "    a = df_2020_0[df_2020_0['中文片名'] == title] \n",
    "    b = a.iloc[-1,:]\n",
    "    movie_title_df = movie_title_df.append(b,ignore_index=True)"
   ]
  },
  {
   "cell_type": "code",
   "execution_count": 12,
   "metadata": {},
   "outputs": [
    {
     "name": "stdout",
     "output_type": "stream",
     "text": [
      "(425, 13)\n"
     ]
    },
    {
     "data": {
      "text/html": [
       "<div>\n",
       "<style scoped>\n",
       "    .dataframe tbody tr th:only-of-type {\n",
       "        vertical-align: middle;\n",
       "    }\n",
       "\n",
       "    .dataframe tbody tr th {\n",
       "        vertical-align: top;\n",
       "    }\n",
       "\n",
       "    .dataframe thead th {\n",
       "        text-align: right;\n",
       "    }\n",
       "</style>\n",
       "<table border=\"1\" class=\"dataframe\">\n",
       "  <thead>\n",
       "    <tr style=\"text-align: right;\">\n",
       "      <th></th>\n",
       "      <th>Unnamed: 0</th>\n",
       "      <th>序號</th>\n",
       "      <th>國別地區</th>\n",
       "      <th>中文片名</th>\n",
       "      <th>上映日期</th>\n",
       "      <th>申請人</th>\n",
       "      <th>出品</th>\n",
       "      <th>上映院數</th>\n",
       "      <th>銷售票數</th>\n",
       "      <th>週票數變動率</th>\n",
       "      <th>銷售金額</th>\n",
       "      <th>累計銷售票數</th>\n",
       "      <th>累計銷售金額</th>\n",
       "    </tr>\n",
       "  </thead>\n",
       "  <tbody>\n",
       "    <tr>\n",
       "      <th>420</th>\n",
       "      <td>4</td>\n",
       "      <td>5</td>\n",
       "      <td>俄羅斯</td>\n",
       "      <td>飢俄人妻</td>\n",
       "      <td>2020-08-28</td>\n",
       "      <td>車庫娛樂股份有限公司</td>\n",
       "      <td>M-APPEAL WORLD SALES</td>\n",
       "      <td>15</td>\n",
       "      <td>454</td>\n",
       "      <td>-2.58</td>\n",
       "      <td>93990.0</td>\n",
       "      <td>920.0</td>\n",
       "      <td>190654.0</td>\n",
       "    </tr>\n",
       "    <tr>\n",
       "      <th>421</th>\n",
       "      <td>5</td>\n",
       "      <td>6</td>\n",
       "      <td>德國</td>\n",
       "      <td>一罐子的美好人生</td>\n",
       "      <td>2020-08-28</td>\n",
       "      <td>車庫娛樂股份有限公司</td>\n",
       "      <td>PICTURE TREE INTERNATIONAL GMBH</td>\n",
       "      <td>3</td>\n",
       "      <td>30</td>\n",
       "      <td>-16.67</td>\n",
       "      <td>6895.0</td>\n",
       "      <td>66.0</td>\n",
       "      <td>15015.0</td>\n",
       "    </tr>\n",
       "    <tr>\n",
       "      <th>422</th>\n",
       "      <td>6</td>\n",
       "      <td>7</td>\n",
       "      <td>美國</td>\n",
       "      <td>TENET天能</td>\n",
       "      <td>2020-08-27</td>\n",
       "      <td>美商華納兄弟（遠東）股份有限公司台灣分公司</td>\n",
       "      <td>WARNER BROS. PICTURES INTERNATIONAL.</td>\n",
       "      <td>100</td>\n",
       "      <td>390,297</td>\n",
       "      <td>12.63</td>\n",
       "      <td>98333935.0</td>\n",
       "      <td>736833.0</td>\n",
       "      <td>185426805.0</td>\n",
       "    </tr>\n",
       "    <tr>\n",
       "      <th>423</th>\n",
       "      <td>7</td>\n",
       "      <td>8</td>\n",
       "      <td>美國</td>\n",
       "      <td>變種人</td>\n",
       "      <td>2020-08-27</td>\n",
       "      <td>博偉電影股份有限公司</td>\n",
       "      <td>BUENA VISTA INTERNATIONAL, INC.</td>\n",
       "      <td>93</td>\n",
       "      <td>25,240</td>\n",
       "      <td>-45.43</td>\n",
       "      <td>5822499.0</td>\n",
       "      <td>71492.0</td>\n",
       "      <td>16467409.0</td>\n",
       "    </tr>\n",
       "    <tr>\n",
       "      <th>424</th>\n",
       "      <td>8</td>\n",
       "      <td>9</td>\n",
       "      <td>日本</td>\n",
       "      <td>言葉之庭</td>\n",
       "      <td>2020-08-26</td>\n",
       "      <td>中藝國際影視股份有限公司</td>\n",
       "      <td>CoMix Wave Films Inc.</td>\n",
       "      <td>11</td>\n",
       "      <td>500</td>\n",
       "      <td>-55.83</td>\n",
       "      <td>123104.0</td>\n",
       "      <td>1632.0</td>\n",
       "      <td>407985.0</td>\n",
       "    </tr>\n",
       "  </tbody>\n",
       "</table>\n",
       "</div>"
      ],
      "text/plain": [
       "    Unnamed: 0 序號 國別地區      中文片名        上映日期                    申請人  \\\n",
       "420          4  5  俄羅斯      飢俄人妻  2020-08-28             車庫娛樂股份有限公司   \n",
       "421          5  6   德國  一罐子的美好人生  2020-08-28             車庫娛樂股份有限公司   \n",
       "422          6  7   美國   TENET天能  2020-08-27  美商華納兄弟（遠東）股份有限公司台灣分公司   \n",
       "423          7  8   美國       變種人  2020-08-27             博偉電影股份有限公司   \n",
       "424          8  9   日本      言葉之庭  2020-08-26           中藝國際影視股份有限公司   \n",
       "\n",
       "                                       出品 上映院數     銷售票數  週票數變動率        銷售金額  \\\n",
       "420                  M-APPEAL WORLD SALES   15      454   -2.58     93990.0   \n",
       "421       PICTURE TREE INTERNATIONAL GMBH    3       30  -16.67      6895.0   \n",
       "422  WARNER BROS. PICTURES INTERNATIONAL.  100  390,297   12.63  98333935.0   \n",
       "423       BUENA VISTA INTERNATIONAL, INC.   93   25,240  -45.43   5822499.0   \n",
       "424                 CoMix Wave Films Inc.   11      500  -55.83    123104.0   \n",
       "\n",
       "       累計銷售票數       累計銷售金額  \n",
       "420     920.0     190654.0  \n",
       "421      66.0      15015.0  \n",
       "422  736833.0  185426805.0  \n",
       "423   71492.0   16467409.0  \n",
       "424    1632.0     407985.0  "
      ]
     },
     "execution_count": 12,
     "metadata": {},
     "output_type": "execute_result"
    }
   ],
   "source": [
    "print(movie_title_df.shape)\n",
    "movie_title_df.tail()"
   ]
  },
  {
   "cell_type": "code",
   "execution_count": 14,
   "metadata": {},
   "outputs": [
    {
     "name": "stdout",
     "output_type": "stream",
     "text": [
      "成功產出C:/Users/ching/Desktop/practice/movie/data/df_only2020_bytitle.csv\n"
     ]
    }
   ],
   "source": [
    "#存成csv\n",
    "Result ='C:/Users/ching/Desktop/practice/movie/data/df_only2020_bytitle.csv'\n",
    "movie_title_df.to_csv(Result, index=True )\n",
    "print( '成功產出'+ Result)"
   ]
  },
  {
   "cell_type": "markdown",
   "metadata": {},
   "source": [
    "以tableau視覺化\n",
    "https://public.tableau.com/profile/ching6735#!/"
   ]
  }
 ],
 "metadata": {
  "kernelspec": {
   "display_name": "Python 3",
   "language": "python",
   "name": "python3"
  },
  "language_info": {
   "codemirror_mode": {
    "name": "ipython",
    "version": 3
   },
   "file_extension": ".py",
   "mimetype": "text/x-python",
   "name": "python",
   "nbconvert_exporter": "python",
   "pygments_lexer": "ipython3",
   "version": "3.7.7"
  }
 },
 "nbformat": 4,
 "nbformat_minor": 4
}
